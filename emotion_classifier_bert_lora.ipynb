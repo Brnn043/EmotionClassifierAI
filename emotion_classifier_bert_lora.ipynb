{
  "cells": [
    {
      "cell_type": "markdown",
      "metadata": {
        "colab_type": "text",
        "id": "view-in-github"
      },
      "source": [
        "<a href=\"https://colab.research.google.com/github/Brnn043/EmotionClassifierAI/blob/main/emotion_classifier_gpt2_lora.ipynb\" target=\"_parent\"><img src=\"https://colab.research.google.com/assets/colab-badge.svg\" alt=\"Open In Colab\"/></a>"
      ]
    },
    {
      "cell_type": "markdown",
      "metadata": {
        "id": "kI0rwg9Tk4Gi"
      },
      "source": [
        "# **EmotionClassifierAI 😧**\n",
        "description\n"
      ]
    },
    {
      "cell_type": "markdown",
      "metadata": {
        "id": "RHQUM3v_lwOs"
      },
      "source": [
        "## Setup & Install Dependencies"
      ]
    },
    {
      "cell_type": "code",
      "execution_count": 1,
      "metadata": {
        "id": "2TGShuRDojVS"
      },
      "outputs": [],
      "source": [
        "!pip install transformers datasets peft evaluate --quiet"
      ]
    },
    {
      "cell_type": "code",
      "execution_count": 2,
      "metadata": {
        "colab": {
          "base_uri": "https://localhost:8080/"
        },
        "id": "SORra4QfBYxB",
        "outputId": "3b166f9a-15a1-4942-bc4b-b732bd915b2d"
      },
      "outputs": [
        {
          "name": "stdout",
          "output_type": "stream",
          "text": [
            "Requirement already satisfied: numpy==1.24.4 in /usr/local/lib/python3.11/dist-packages (1.24.4)\n"
          ]
        }
      ],
      "source": [
        "!pip install numpy==1.24.4"
      ]
    },
    {
      "cell_type": "markdown",
      "metadata": {
        "id": "JZJExAmtl380"
      },
      "source": [
        "## Load Dataset"
      ]
    },
    {
      "cell_type": "code",
      "execution_count": 18,
      "metadata": {
        "colab": {
          "base_uri": "https://localhost:8080/"
        },
        "id": "KKUQ69XaK5T0",
        "outputId": "fc353186-3016-4b2a-9d9f-dedab1c76f5f"
      },
      "outputs": [
        {
          "name": "stdout",
          "output_type": "stream",
          "text": [
            "{'text': Value('string'), 'label': ClassLabel(names=['sadness', 'joy', 'love', 'anger', 'fear', 'surprise'])}\n",
            "{'train': SplitInfo(name='train', num_bytes=1743533, num_examples=16000, shard_lengths=None, dataset_name='emotion'), 'validation': SplitInfo(name='validation', num_bytes=214945, num_examples=2000, shard_lengths=None, dataset_name='emotion'), 'test': SplitInfo(name='test', num_bytes=217423, num_examples=2000, shard_lengths=None, dataset_name='emotion')}\n",
            "\n"
          ]
        }
      ],
      "source": [
        "from datasets import load_dataset_builder\n",
        "\n",
        "ds_builder = load_dataset_builder(\"dair-ai/emotion\")\n",
        "\n",
        "print(ds_builder.info.features)\n",
        "print(ds_builder.info.splits)\n",
        "print(ds_builder.info.description)"
      ]
    },
    {
      "cell_type": "code",
      "execution_count": 9,
      "metadata": {
        "colab": {
          "base_uri": "https://localhost:8080/",
          "height": 209,
          "referenced_widgets": [
            "461e2d2d855c4aba87b9d827364ab2d3",
            "35c8ff6125754170b73d17069e41f11d",
            "218a6e07528a4a579f1e8812f29ce108",
            "47085a256a2a42baa8180b2523503701",
            "2de532be745a4d65b3758d8801aae16e",
            "54cce3b5695848a08b186f754d382216",
            "c5642de71c3e4d268afd896e0a153a31",
            "cafdd42d5c534f09be727396dd3f7d0a",
            "08483eac605a4fc4ba56f5db9f18f946",
            "af9f2dd9b9924affbd70e1c9cfd87189",
            "7ad3fa4420e247bd881e53f205ab3a6f",
            "7803e90fdeef4f8e81db4f1a7b2ac5d6",
            "eb98b0af06dd4a349a94a611f1ae9b40",
            "df7d3039ef0b4202a81f573e016595d9",
            "06c78fdc061d438da6d6d2c768c1a81b",
            "d8886e1e0071400eb3b25aac3ff38f31",
            "5a138f3a854843c5a4182097c8460d22",
            "8293942c46034ba7ac829d00dff850ab",
            "ba7a9b41d71b4bc086a7a02d12e0e97e",
            "4689667410254f32b8e8cbe96d0e67e9",
            "3540038fdc2a4931ba86d43532142514",
            "f6b6a0d87ea74f33bbd70445aa64410c",
            "453df085947948d3a0a45ac903c0b669",
            "0230e18bdf214339a004b32a3d984562",
            "f539c79cfed24f2c870156f41064dcaa",
            "cb2d5dab3bb64d0fbade4e62be025f5e",
            "33c38a52b29149959e0f605058f3fce7",
            "98d95c5db5e841e89c5e2bbfb613fa1b",
            "1027291a0e674879a2e78641b6ce124c",
            "50de958e64c94842b65c112b90ed9661",
            "d17af2cb1811450d9182b946763a33b3",
            "ad70e9f7f4f2434a80e5f56364b1dd5a",
            "56333445a0d3416083659d1d3b5f4833",
            "711581bd09a944648d77078085d862a5",
            "b35f373f50ee4755b500adc4aee1e8fd",
            "df40586559ad4f1da1f027b159adc3d2",
            "e062b99e7ea54ed9af37d812ea191f10",
            "d506aef622f7411cb8c0a2f7119abc8b",
            "d275a407006548979d8cc19ff3a255c7",
            "a5f88011d4cd42c8809b52e84c276de7",
            "8b09f3604657407996351fbcd98733b5",
            "8fabd6ad361947b3a1d7dffc49612a87",
            "260db422de504a728aa7659fa573351d",
            "d14db96818fc44168cdd0425a52d5c4a",
            "8b2447c64b7940fb82832188765b4efe",
            "0cacb21146034fadb0c8f92036607d5c",
            "4650cf95a09944d68cb988a2e0c357fc",
            "0c6860b89ff945c5af8a679202365686",
            "1b33b116c83447b9a8caeb7b8d92b1e7",
            "a4f2ccd0e12d43a2bcf3db0a837c636e",
            "bf161195c2d74dbc8a08787b89d53baa",
            "a457f81a8ce04fa7a913d31667b66ed2",
            "b9a987ae24a949a0ac651428b39119dd",
            "2bbbfee8e5124d33a5b0b01aa836ea11",
            "6957badf21c04229ba8981ecfcb0b2df",
            "b0b1806ccbd243be89cc02a5285a03ad",
            "6dfcf2001c2b4a369e11e58e7e287446",
            "0c763b9472ae406caa01346fb2408f76",
            "0f8648137e214302996c889fe613dcd9",
            "5fbb28bfcb294878a66ce8c55d6a0375",
            "568a3a82fcea4fdca72bccd2e2469998",
            "db9506963607488a9ea650f406d53037",
            "19bd51c011aa45739ff2d93f3c3018ee",
            "1812ec7e6efb4986994750703d146346",
            "60f12f92e6234080a4239a9dbf72df51",
            "abb7f47b685a461aa795c975664c5068"
          ]
        },
        "id": "UAq1lNFJAFhQ",
        "outputId": "f6cf88e6-6358-44c2-fc2b-f34eaca872d0"
      },
      "outputs": [
        {
          "data": {
            "application/vnd.jupyter.widget-view+json": {
              "model_id": "461e2d2d855c4aba87b9d827364ab2d3",
              "version_major": 2,
              "version_minor": 0
            },
            "text/plain": [
              "train-00000-of-00001.parquet:   0%|          | 0.00/1.03M [00:00<?, ?B/s]"
            ]
          },
          "metadata": {},
          "output_type": "display_data"
        },
        {
          "data": {
            "application/vnd.jupyter.widget-view+json": {
              "model_id": "7803e90fdeef4f8e81db4f1a7b2ac5d6",
              "version_major": 2,
              "version_minor": 0
            },
            "text/plain": [
              "validation-00000-of-00001.parquet:   0%|          | 0.00/127k [00:00<?, ?B/s]"
            ]
          },
          "metadata": {},
          "output_type": "display_data"
        },
        {
          "data": {
            "application/vnd.jupyter.widget-view+json": {
              "model_id": "453df085947948d3a0a45ac903c0b669",
              "version_major": 2,
              "version_minor": 0
            },
            "text/plain": [
              "test-00000-of-00001.parquet:   0%|          | 0.00/129k [00:00<?, ?B/s]"
            ]
          },
          "metadata": {},
          "output_type": "display_data"
        },
        {
          "data": {
            "application/vnd.jupyter.widget-view+json": {
              "model_id": "711581bd09a944648d77078085d862a5",
              "version_major": 2,
              "version_minor": 0
            },
            "text/plain": [
              "Generating train split:   0%|          | 0/16000 [00:00<?, ? examples/s]"
            ]
          },
          "metadata": {},
          "output_type": "display_data"
        },
        {
          "data": {
            "application/vnd.jupyter.widget-view+json": {
              "model_id": "8b2447c64b7940fb82832188765b4efe",
              "version_major": 2,
              "version_minor": 0
            },
            "text/plain": [
              "Generating validation split:   0%|          | 0/2000 [00:00<?, ? examples/s]"
            ]
          },
          "metadata": {},
          "output_type": "display_data"
        },
        {
          "data": {
            "application/vnd.jupyter.widget-view+json": {
              "model_id": "b0b1806ccbd243be89cc02a5285a03ad",
              "version_major": 2,
              "version_minor": 0
            },
            "text/plain": [
              "Generating test split:   0%|          | 0/2000 [00:00<?, ? examples/s]"
            ]
          },
          "metadata": {},
          "output_type": "display_data"
        }
      ],
      "source": [
        "from datasets import load_dataset\n",
        "\n",
        "dataset = load_dataset(\"dair-ai/emotion\")"
      ]
    },
    {
      "cell_type": "code",
      "execution_count": 17,
      "metadata": {
        "colab": {
          "base_uri": "https://localhost:8080/"
        },
        "id": "HBmDtkdHEsBe",
        "outputId": "aa951fdf-ae22-4b40-89dd-ad555e8caa7d"
      },
      "outputs": [
        {
          "data": {
            "text/plain": [
              "['i didnt feel humiliated',\n",
              " 'i can go from feeling so hopeless to so damned hopeful just from being around someone who cares and is awake',\n",
              " 'im grabbing a minute to post i feel greedy wrong',\n",
              " 'i am ever feeling nostalgic about the fireplace i will know that it is still on the property',\n",
              " 'i am feeling grouchy',\n",
              " 'ive been feeling a little burdened lately wasnt sure why that was',\n",
              " 'ive been taking or milligrams or times recommended amount and ive fallen asleep a lot faster but i also feel like so funny',\n",
              " 'i feel as confused about life as a teenager or as jaded as a year old man',\n",
              " 'i have been with petronas for years i feel that petronas has performed well and made a huge profit',\n",
              " 'i feel romantic too']"
            ]
          },
          "execution_count": 17,
          "metadata": {},
          "output_type": "execute_result"
        }
      ],
      "source": [
        "dataset['train']['text'][:10]"
      ]
    },
    {
      "cell_type": "code",
      "execution_count": 19,
      "metadata": {
        "id": "SwiBfDiHHZeR"
      },
      "outputs": [],
      "source": [
        "label_map = {\n",
        "    0: \"sadness\",\n",
        "    1: \"joy\",\n",
        "    2: \"love\",\n",
        "    3: \"anger\",\n",
        "    4: \"fear\",\n",
        "    5: \"surprise\"\n",
        "}\n",
        "\n",
        "string_map = {\n",
        "    \"sadness\": 0,\n",
        "    \"joy\": 1,\n",
        "    \"love\": 2,\n",
        "    \"anger\": 3,\n",
        "    \"fear\": 4,\n",
        "    \"surprise\": 5\n",
        "}\n",
        "\n",
        "def label_to_string(label):\n",
        "    return label_map[label]\n",
        "\n",
        "def string_to_label(string):\n",
        "    return string_map[string]"
      ]
    },
    {
      "cell_type": "markdown",
      "metadata": {
        "id": "qnQw0VxJGaMl"
      },
      "source": [
        "## Preprocess Dataset"
      ]
    },
    {
      "cell_type": "markdown",
      "metadata": {
        "id": "XYQts6ONl_Cg"
      },
      "source": [
        "## Loading & Evaluating a Foundation Model"
      ]
    },
    {
      "cell_type": "markdown",
      "metadata": {
        "id": "DnCa-sFimdTn"
      },
      "source": [
        "## Performing Parameter-Efficient Fine-Tuning (PEFT)"
      ]
    }
  ],
  "metadata": {
    "colab": {
      "authorship_tag": "ABX9TyNyOZo2Xh33IahW586gvVtU",
      "include_colab_link": true,
      "provenance": []
    },
    "kernelspec": {
      "display_name": "Python 3",
      "name": "python3"
    },
    "language_info": {
      "name": "python"
    }
  },
  "nbformat": 4,
  "nbformat_minor": 0
}
